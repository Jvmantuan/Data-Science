{
 "cells": [
  {
   "cell_type": "markdown",
   "metadata": {},
   "source": [
    "# Normalização de dados\n",
    "\n",
    "#### norma L2 é definida como a raiz quadrada do somatório de todos os elementos do vetor ao quadrado."
   ]
  },
  {
   "cell_type": "code",
   "execution_count": 1,
   "metadata": {},
   "outputs": [],
   "source": [
    "import warnings\n",
    "warnings.filterwarnings('ignore')\n",
    "from sklearn.preprocessing import Normalizer\n",
    "import numpy as np\n",
    "import seaborn as sns\n",
    "import matplotlib.pyplot as plt"
   ]
  },
  {
   "cell_type": "code",
   "execution_count": 2,
   "metadata": {},
   "outputs": [
    {
     "data": {
      "text/plain": [
       "[[-1, 2], [0.5, 6], [0, 10], [1, 18]]"
      ]
     },
     "execution_count": 2,
     "metadata": {},
     "output_type": "execute_result"
    }
   ],
   "source": [
    "data = [\n",
    "    [-1, 2],\n",
    "    [0.5, 6],\n",
    "    [0, 10],\n",
    "    [1, 18]\n",
    "]\n",
    "data"
   ]
  },
  {
   "cell_type": "code",
   "execution_count": 4,
   "metadata": {},
   "outputs": [
    {
     "data": {
      "text/plain": [
       "4.5625"
      ]
     },
     "execution_count": 4,
     "metadata": {},
     "output_type": "execute_result"
    }
   ],
   "source": [
    "np.mean(data)"
   ]
  },
  {
   "cell_type": "code",
   "execution_count": 6,
   "metadata": {},
   "outputs": [
    {
     "data": {
      "text/plain": [
       "<matplotlib.axes._subplots.AxesSubplot at 0x1fdd0031248>"
      ]
     },
     "execution_count": 6,
     "metadata": {},
     "output_type": "execute_result"
    },
    {
     "data": {
      "image/png": "[encoded data removed]",
      "text/plain": [
       "<Figure size 432x288 with 1 Axes>"
      ]
     },
     "metadata": {
      "needs_background": "light"
     },
     "output_type": "display_data"
    }
   ],
   "source": [
    "sns.distplot(np.array(data).reshape(-1))"
   ]
  },
  {
   "cell_type": "markdown",
   "metadata": {},
   "source": [
    "#### Instanciando o objeto Normalize\n"
   ]
  },
  {
   "cell_type": "code",
   "execution_count": 8,
   "metadata": {},
   "outputs": [],
   "source": [
    "normalizer = Normalizer().fit(data)"
   ]
  },
  {
   "cell_type": "code",
   "execution_count": 10,
   "metadata": {},
   "outputs": [],
   "source": [
    "data2 = normalizer.transform(data)"
   ]
  },
  {
   "cell_type": "code",
   "execution_count": 11,
   "metadata": {},
   "outputs": [
    {
     "data": {
      "text/plain": [
       "array([[-0.4472136 ,  0.89442719],\n",
       "       [ 0.08304548,  0.99654576],\n",
       "       [ 0.        ,  1.        ],\n",
       "       [ 0.05547002,  0.99846035]])"
      ]
     },
     "execution_count": 11,
     "metadata": {},
     "output_type": "execute_result"
    }
   ],
   "source": [
    "data2"
   ]
  },
  {
   "cell_type": "code",
   "execution_count": 13,
   "metadata": {},
   "outputs": [
    {
     "data": {
      "text/plain": [
       "<matplotlib.axes._subplots.AxesSubplot at 0x1fdd183ab88>"
      ]
     },
     "execution_count": 13,
     "metadata": {},
     "output_type": "execute_result"
    },
    {
     "data": {
      "image/png": "[encoded data removed]",
      "text/plain": [
       "<Figure size 432x288 with 1 Axes>"
      ]
     },
     "metadata": {
      "needs_background": "light"
     },
     "output_type": "display_data"
    }
   ],
   "source": [
    "sns.distplot(data2.reshape(-1))"
   ]
  },
  {
   "cell_type": "markdown",
   "metadata": {},
   "source": [
    "## Técnicas de pre-processamento de Dados - Standartization"
   ]
  },
  {
   "cell_type": "code",
   "execution_count": 14,
   "metadata": {},
   "outputs": [
    {
     "data": {
      "text/plain": [
       "array([-1.38274367,  0.74285703, -0.46360456,  0.97938942,  0.46889965,\n",
       "       -0.52798145, -0.741194  ,  0.03799272,  1.52111262,  1.0358649 ,\n",
       "       -0.03645969,  0.08098794,  1.83610273,  1.72306105,  1.0543679 ,\n",
       "       -0.66879221, -0.54224874,  0.24869259,  0.47390138,  0.87213892,\n",
       "       -1.03290984, -1.27902763,  0.7895249 ,  0.79233619, -1.10076674,\n",
       "        0.36708825, -0.14071964, -0.90923577,  0.21756629,  1.43775485,\n",
       "        0.14597802, -0.77869087,  0.22629098, -0.14072497, -1.82948849,\n",
       "       -0.62181215, -0.20328873, -0.41170474,  0.12316885,  0.11898805,\n",
       "        1.8094188 , -0.23132415, -0.17521728,  1.40077321, -0.35842894,\n",
       "       -1.53793931,  0.41498411,  0.34294594,  0.80822669,  0.40633604])"
      ]
     },
     "execution_count": 14,
     "metadata": {},
     "output_type": "execute_result"
    }
   ],
   "source": [
    "data = np.random.normal(size = 50)\n",
    "data"
   ]
  },
  {
   "cell_type": "code",
   "execution_count": 24,
   "metadata": {},
   "outputs": [
    {
     "data": {
      "text/plain": [
       "array([[-1.38274367],\n",
       "       [ 0.74285703],\n",
       "       [-0.46360456],\n",
       "       [ 0.97938942],\n",
       "       [ 0.46889965],\n",
       "       [-0.52798145],\n",
       "       [-0.741194  ],\n",
       "       [ 0.03799272],\n",
       "       [ 1.52111262],\n",
       "       [ 1.0358649 ],\n",
       "       [-0.03645969],\n",
       "       [ 0.08098794],\n",
       "       [ 1.83610273],\n",
       "       [ 1.72306105],\n",
       "       [ 1.0543679 ],\n",
       "       [-0.66879221],\n",
       "       [-0.54224874],\n",
       "       [ 0.24869259],\n",
       "       [ 0.47390138],\n",
       "       [ 0.87213892],\n",
       "       [-1.03290984],\n",
       "       [-1.27902763],\n",
       "       [ 0.7895249 ],\n",
       "       [ 0.79233619],\n",
       "       [-1.10076674],\n",
       "       [ 0.36708825],\n",
       "       [-0.14071964],\n",
       "       [-0.90923577],\n",
       "       [ 0.21756629],\n",
       "       [ 1.43775485],\n",
       "       [ 0.14597802],\n",
       "       [-0.77869087],\n",
       "       [ 0.22629098],\n",
       "       [-0.14072497],\n",
       "       [-1.82948849],\n",
       "       [-0.62181215],\n",
       "       [-0.20328873],\n",
       "       [-0.41170474],\n",
       "       [ 0.12316885],\n",
       "       [ 0.11898805],\n",
       "       [ 1.8094188 ],\n",
       "       [-0.23132415],\n",
       "       [-0.17521728],\n",
       "       [ 1.40077321],\n",
       "       [-0.35842894],\n",
       "       [-1.53793931],\n",
       "       [ 0.41498411],\n",
       "       [ 0.34294594],\n",
       "       [ 0.80822669],\n",
       "       [ 0.40633604]])"
      ]
     },
     "execution_count": 24,
     "metadata": {},
     "output_type": "execute_result"
    }
   ],
   "source": [
    "data = data.reshape(-1,1)\n",
    "data"
   ]
  },
  {
   "cell_type": "code",
   "execution_count": 20,
   "metadata": {},
   "outputs": [
    {
     "data": {
      "text/plain": [
       "<matplotlib.axes._subplots.AxesSubplot at 0x1fdd197be48>"
      ]
     },
     "execution_count": 20,
     "metadata": {},
     "output_type": "execute_result"
    },
    {
     "data": {
      "image/png": "[encoded data removed]",
      "text/plain": [
       "<Figure size 432x288 with 1 Axes>"
      ]
     },
     "metadata": {
      "needs_background": "light"
     },
     "output_type": "display_data"
    }
   ],
   "source": [
    "sns.distplot(data)"
   ]
  },
  {
   "cell_type": "code",
   "execution_count": 21,
   "metadata": {},
   "outputs": [],
   "source": [
    "from sklearn.preprocessing import MinMaxScaler"
   ]
  },
  {
   "cell_type": "code",
   "execution_count": 25,
   "metadata": {},
   "outputs": [],
   "source": [
    "scaler = MinMaxScaler().fit(data)\n",
    "data_scaled = scaler.transform(data)"
   ]
  },
  {
   "cell_type": "code",
   "execution_count": 26,
   "metadata": {},
   "outputs": [
    {
     "data": {
      "text/plain": [
       "array([[0.12187524],\n",
       "       [0.7017546 ],\n",
       "       [0.37262309],\n",
       "       [0.76628236],\n",
       "       [0.62701704],\n",
       "       [0.35506061],\n",
       "       [0.29689467],\n",
       "       [0.50946248],\n",
       "       [0.9140684 ],\n",
       "       [0.78168929],\n",
       "       [0.48915132],\n",
       "       [0.52119189],\n",
       "       [1.        ],\n",
       "       [0.96916141],\n",
       "       [0.78673704],\n",
       "       [0.3166464 ],\n",
       "       [0.35116838],\n",
       "       [0.56694294],\n",
       "       [0.62838154],\n",
       "       [0.73702365],\n",
       "       [0.21731246],\n",
       "       [0.15016973],\n",
       "       [0.71448594],\n",
       "       [0.71525288],\n",
       "       [0.1988006 ],\n",
       "       [0.59924214],\n",
       "       [0.46070845],\n",
       "       [0.25105165],\n",
       "       [0.55845146],\n",
       "       [0.89132779],\n",
       "       [0.53892166],\n",
       "       [0.28666525],\n",
       "       [0.56083162],\n",
       "       [0.460707  ],\n",
       "       [0.        ],\n",
       "       [0.32946291],\n",
       "       [0.44363914],\n",
       "       [0.38678174],\n",
       "       [0.53269915],\n",
       "       [0.5315586 ],\n",
       "       [0.99272043],\n",
       "       [0.43599088],\n",
       "       [0.45129724],\n",
       "       [0.88123893],\n",
       "       [0.40131577],\n",
       "       [0.07953674],\n",
       "       [0.61230848],\n",
       "       [0.59265594],\n",
       "       [0.71958793],\n",
       "       [0.60994923]])"
      ]
     },
     "execution_count": 26,
     "metadata": {},
     "output_type": "execute_result"
    }
   ],
   "source": [
    "data_scaled"
   ]
  },
  {
   "cell_type": "code",
   "execution_count": 27,
   "metadata": {},
   "outputs": [
    {
     "data": {
      "text/plain": [
       "<matplotlib.axes._subplots.AxesSubplot at 0x1fdd187c888>"
      ]
     },
     "execution_count": 27,
     "metadata": {},
     "output_type": "execute_result"
    },
    {
     "data": {
      "image/png": "[encoded data removed]",
      "text/plain": [
       "<Figure size 432x288 with 1 Axes>"
      ]
     },
     "metadata": {
      "needs_background": "light"
     },
     "output_type": "display_data"
    }
   ],
   "source": [
    "data_scaled = data_scaled.reshape(-1,1)\n",
    "sns.distplot(data_scaled)"
   ]
  },
  {
   "cell_type": "markdown",
   "metadata": {},
   "source": [
    "## StandardScaler - Técnica de Pré-Processamento"
   ]
  },
  {
   "cell_type": "markdown",
   "metadata": {},
   "source": [
    "* Padroniza a escala dos dados sem interferir na sua forma\n",
    "* Mantém a escala dos dados mais fiel que a Técnica MinMaxScale"
   ]
  },
  {
   "cell_type": "code",
   "execution_count": 35,
   "metadata": {},
   "outputs": [
    {
     "name": "stdout",
     "output_type": "stream",
     "text": [
      "[ 0.55257344  1.28250954  0.14535011 -0.2552749   1.86739324  0.92262065\n",
      "  1.26580696  1.00058855 -0.21137257 -1.13180264  0.1860751  -0.92361677\n",
      "  1.58145451  2.2286309  -0.7871412   0.30297006  1.35697064 -0.11344315\n",
      " -1.18995355  0.96192707  0.07850721 -0.2880904  -0.53450179 -1.2718351\n",
      " -1.38295303  0.55342992  0.47412352 -0.08915981  1.68347034 -0.3196777\n",
      "  0.82778791  0.95229415 -1.69087746 -2.5478469   0.37526899 -0.05332605\n",
      "  0.18576275  0.32314408 -0.07957047  0.94091533  0.06369959  1.4777085\n",
      "  0.25436729 -0.14461934  0.57564177 -0.8483514   0.71035512  1.02757534\n",
      "  0.59888477 -0.60888106]\n"
     ]
    }
   ],
   "source": [
    "data = np.random.normal(size = 50)\n",
    "print(data)"
   ]
  },
  {
   "cell_type": "code",
   "execution_count": 36,
   "metadata": {},
   "outputs": [],
   "source": [
    "data = data.reshape(-1,1)"
   ]
  },
  {
   "cell_type": "code",
   "execution_count": 37,
   "metadata": {},
   "outputs": [
    {
     "data": {
      "text/plain": [
       "<matplotlib.axes._subplots.AxesSubplot at 0x1fdcff92388>"
      ]
     },
     "execution_count": 37,
     "metadata": {},
     "output_type": "execute_result"
    },
    {
     "data": {
      "image/png": "[encoded data removed]",
      "text/plain": [
       "<Figure size 432x288 with 1 Axes>"
      ]
     },
     "metadata": {
      "needs_background": "light"
     },
     "output_type": "display_data"
    }
   ],
   "source": [
    "sns.distplot(data)"
   ]
  },
  {
   "cell_type": "code",
   "execution_count": 31,
   "metadata": {},
   "outputs": [],
   "source": [
    "from sklearn.preprocessing import StandardScaler"
   ]
  },
  {
   "cell_type": "code",
   "execution_count": 38,
   "metadata": {},
   "outputs": [],
   "source": [
    "scaler = StandardScaler().fit(data)\n",
    "data_scaled = scaler.transform(data)"
   ]
  },
  {
   "cell_type": "code",
   "execution_count": 39,
   "metadata": {},
   "outputs": [
    {
     "data": {
      "text/plain": [
       "array([[ 0.35944085],\n",
       "       [ 1.11584525],\n",
       "       [-0.06254886],\n",
       "       [-0.47770098],\n",
       "       [ 1.72193749],\n",
       "       [ 0.74290638],\n",
       "       [ 1.09853702],\n",
       "       [ 0.82370149],\n",
       "       [-0.4322067 ],\n",
       "       [-1.3860126 ],\n",
       "       [-0.02034714],\n",
       "       [-1.17027768],\n",
       "       [ 1.4256303 ],\n",
       "       [ 2.09627403],\n",
       "       [-1.02885335],\n",
       "       [ 0.10078656],\n",
       "       [ 1.19300639],\n",
       "       [-0.33072625],\n",
       "       [-1.44627212],\n",
       "       [ 0.7836381 ],\n",
       "       [-0.13181556],\n",
       "       [-0.5117064 ],\n",
       "       [-0.76705295],\n",
       "       [-1.53112279],\n",
       "       [-1.64626998],\n",
       "       [ 0.36032838],\n",
       "       [ 0.27814624],\n",
       "       [-0.30556237],\n",
       "       [ 1.53134534],\n",
       "       [-0.5444391 ],\n",
       "       [ 0.64463491],\n",
       "       [ 0.77365588],\n",
       "       [-1.9653601 ],\n",
       "       [-2.85340421],\n",
       "       [ 0.17570714],\n",
       "       [-0.26842924],\n",
       "       [-0.02067081],\n",
       "       [ 0.12169212],\n",
       "       [-0.29562531],\n",
       "       [ 0.76186445],\n",
       "       [-0.14716012],\n",
       "       [ 1.31812234],\n",
       "       [ 0.05042141],\n",
       "       [-0.36303292],\n",
       "       [ 0.38334566],\n",
       "       [-1.0922831 ],\n",
       "       [ 0.52294387],\n",
       "       [ 0.85166685],\n",
       "       [ 0.40743148],\n",
       "       [-0.8441293 ]])"
      ]
     },
     "execution_count": 39,
     "metadata": {},
     "output_type": "execute_result"
    }
   ],
   "source": [
    "data_scaled"
   ]
  },
  {
   "cell_type": "code",
   "execution_count": 40,
   "metadata": {},
   "outputs": [
    {
     "data": {
      "text/plain": [
       "<matplotlib.axes._subplots.AxesSubplot at 0x1fdd1938e48>"
      ]
     },
     "execution_count": 40,
     "metadata": {},
     "output_type": "execute_result"
    },
    {
     "data": {
      "image/png": "[encoded data removed]",
      "text/plain": [
       "<Figure size 432x288 with 1 Axes>"
      ]
     },
     "metadata": {
      "needs_background": "light"
     },
     "output_type": "display_data"
    }
   ],
   "source": [
    "sns.distplot(data_scaled)"
   ]
  },
  {
   "cell_type": "code",
   "execution_count": null,
   "metadata": {},
   "outputs": [],
   "source": []
  }
 ],
 "metadata": {
  "kernelspec": {
   "display_name": "Python 3",
   "language": "python",
   "name": "python3"
  },
  "language_info": {
   "codemirror_mode": {
    "name": "ipython",
    "version": 3
   },
   "file_extension": ".py",
   "mimetype": "text/x-python",
   "name": "python",
   "nbconvert_exporter": "python",
   "pygments_lexer": "ipython3",
   "version": "3.7.6"
  }
 },
 "nbformat": 4,
 "nbformat_minor": 4
}
